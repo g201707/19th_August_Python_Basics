{
 "cells": [
  {
   "cell_type": "code",
   "execution_count": 1,
   "id": "7583ce18-d9af-49c8-bbe9-ece4d6f0fcbb",
   "metadata": {},
   "outputs": [
    {
     "name": "stdout",
     "output_type": "stream",
     "text": [
      "3\n",
      "10\n"
     ]
    }
   ],
   "source": [
    "x = 10\n",
    "y = 3\n",
    "x = x + y\n",
    "y = x - y\n",
    "x = x - y\n",
    "print(x)\n",
    "print(y)"
   ]
  },
  {
   "cell_type": "code",
   "execution_count": 3,
   "id": "5cec3ba0-a376-4254-a266-9a68b1df0ba7",
   "metadata": {},
   "outputs": [
    {
     "name": "stdin",
     "output_type": "stream",
     "text": [
      "Please Enter the Length of a Rectangle:  20\n",
      "Please Enter the Width of a Rectangle:  5\n"
     ]
    },
    {
     "name": "stdout",
     "output_type": "stream",
     "text": [
      "The Area of a Rectangle using 20.0 and 5.0  =  100.0\n"
     ]
    }
   ],
   "source": [
    "# Python Program to find Area of a Rectangle using length and width\n",
    "\n",
    "length = float(input('Please Enter the Length of a Rectangle: '))\n",
    "width = float(input('Please Enter the Width of a Rectangle: '))\n",
    "\n",
    "# calculate the area\n",
    "area = length * width\n",
    "\n",
    "print(\"The Area of a Rectangle using\", length, \"and\", width, \" = \", area)"
   ]
  },
  {
   "cell_type": "code",
   "execution_count": 6,
   "id": "e70bde51-eb33-445a-babe-8c4787a0dd19",
   "metadata": {},
   "outputs": [
    {
     "name": "stdin",
     "output_type": "stream",
     "text": [
      "Temperature value in degree Celsius:  40\n"
     ]
    },
    {
     "name": "stdout",
     "output_type": "stream",
     "text": [
      "The 40.00 degree Celsius is equal to: 104.00 Fahrenheit\n"
     ]
    }
   ],
   "source": [
    "celsius = float(input(\"Temperature value in degree Celsius: \"))  \n",
    "Fahrenheit = (celsius * 9/5) + 32  \n",
    "    \n",
    "# print the result  \n",
    "print ('The %.2f degree Celsius is equal to: %.2f Fahrenheit' %(celsius, Fahrenheit))"
   ]
  },
  {
   "cell_type": "code",
   "execution_count": 7,
   "id": "cec6fdb2-024c-4a67-8ee4-56b563581f94",
   "metadata": {},
   "outputs": [
    {
     "name": "stdin",
     "output_type": "stream",
     "text": [
      "Enter a string:  welcome\n"
     ]
    },
    {
     "name": "stdout",
     "output_type": "stream",
     "text": [
      "7\n"
     ]
    }
   ],
   "source": [
    "string = input(\"Enter a string: \")\n",
    "length = len(string)\n",
    "print(length)"
   ]
  },
  {
   "cell_type": "code",
   "execution_count": 9,
   "id": "b586d05a-3d9a-4259-ab4f-5efad90fbf74",
   "metadata": {},
   "outputs": [
    {
     "name": "stdin",
     "output_type": "stream",
     "text": [
      "Enter any sentence:  aeiou abcd aeiou xyz\n"
     ]
    },
    {
     "name": "stdout",
     "output_type": "stream",
     "text": [
      "the number of vowels: 11\n"
     ]
    }
   ],
   "source": [
    "string = input(\"Enter any sentence: \")\n",
    "\n",
    "count = 0\n",
    "\n",
    "if string:\n",
    " vowels = ('a', 'e', 'i', 'o', 'u');\n",
    " for x in string.lower():\n",
    "    if x in vowels:\n",
    "        count = count + 1\n",
    "\n",
    "print(\"the number of vowels:\", count)"
   ]
  },
  {
   "cell_type": "code",
   "execution_count": 11,
   "id": "24fc724d-39f0-459b-9603-5bd32bb98a4d",
   "metadata": {},
   "outputs": [
    {
     "data": {
      "text/plain": [
       "'ZYXFEDCBA'"
      ]
     },
     "execution_count": 11,
     "metadata": {},
     "output_type": "execute_result"
    }
   ],
   "source": [
    "letters = \"ABCDEFXYZ\"\n",
    "letters[slice(None, None, -1)]"
   ]
  },
  {
   "cell_type": "code",
   "execution_count": 19,
   "id": "bc26c087-afce-4550-9a7b-718ba2330abf",
   "metadata": {},
   "outputs": [
    {
     "name": "stdin",
     "output_type": "stream",
     "text": [
      "Enter a string:  malayalam\n"
     ]
    },
    {
     "name": "stdout",
     "output_type": "stream",
     "text": [
      "Yes\n"
     ]
    }
   ],
   "source": [
    "# function to check string is\n",
    "# palindrome or not\n",
    "def isPalindrome(str):\n",
    "    if str:\n",
    "        # Run loop from 0 to len/2\n",
    "        for i in range(0, int(len(str)/2)):\n",
    "            if str[i] != str[len(str)-i-1]:\n",
    "                return False\n",
    "        return True\n",
    "    return False\n",
    " \n",
    "s = input(\"Enter a string: \")\n",
    "ans = isPalindrome(s)\n",
    " \n",
    "if (ans):\n",
    "    print(\"Yes\")\n",
    "else:\n",
    "    print(\"No\")"
   ]
  },
  {
   "cell_type": "code",
   "execution_count": 24,
   "id": "ec971764-e98d-4f14-a738-3ecec4623c9e",
   "metadata": {},
   "outputs": [
    {
     "name": "stdin",
     "output_type": "stream",
     "text": [
      "enter a string     hi how are you !    \n"
     ]
    },
    {
     "name": "stdout",
     "output_type": "stream",
     "text": [
      "hihowareyou!\n"
     ]
    }
   ],
   "source": [
    "my_string = input(\"enter a string\")\n",
    "print(my_string.replace(\" \", \"\"))"
   ]
  },
  {
   "cell_type": "code",
   "execution_count": null,
   "id": "e12d97eb-d89f-4f6c-aadb-6337f6a4c207",
   "metadata": {},
   "outputs": [],
   "source": []
  }
 ],
 "metadata": {
  "kernelspec": {
   "display_name": "Python 3 (ipykernel)",
   "language": "python",
   "name": "python3"
  },
  "language_info": {
   "codemirror_mode": {
    "name": "ipython",
    "version": 3
   },
   "file_extension": ".py",
   "mimetype": "text/x-python",
   "name": "python",
   "nbconvert_exporter": "python",
   "pygments_lexer": "ipython3",
   "version": "3.10.8"
  }
 },
 "nbformat": 4,
 "nbformat_minor": 5
}
